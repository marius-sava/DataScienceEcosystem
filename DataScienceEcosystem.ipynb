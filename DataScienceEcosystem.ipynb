{
 "cells": [
  {
   "cell_type": "markdown",
   "id": "d0f14c16-992b-4c7f-bdd6-1be5b3a6d3ea",
   "metadata": {
    "tags": []
   },
   "source": [
    "# Data Science Tools and Ecosystem"
   ]
  },
  {
   "cell_type": "markdown",
   "id": "96eab7a2-bab7-4645-b2ee-2d6f14ba70f6",
   "metadata": {},
   "source": [
    "In this notebook, Data Science Tools and Ecosystem are summarized."
   ]
  },
  {
   "cell_type": "markdown",
   "id": "34fe8215-f880-4b0e-a85f-be831ad08574",
   "metadata": {},
   "source": [
    "Some of the popular languages that Data Scientists use are:\n",
    "1. Python\n",
    "2. R\n",
    "3. Java\n",
    "4. C++\n",
    "5. SQL"
   ]
  },
  {
   "cell_type": "markdown",
   "id": "d06871e8-64e0-4bf0-b414-057f156ddfca",
   "metadata": {},
   "source": [
    "Some of the commonly used libraries used by Data Scientists include:\n",
    "1. Pandas\n",
    "2. NumPy\n",
    "3. SciPy\n",
    "4. Keras\n",
    "5. Seaborn\n",
    "\n"
   ]
  },
  {
   "cell_type": "markdown",
   "id": "b17b446f-f2cf-4b86-a0a1-4881b4542337",
   "metadata": {
    "tags": []
   },
   "source": [
    "|Data Science Tools|\n",
    "|---|\n",
    "|Jupyter Notebook|\n",
    "|Apache Spark|\n",
    "|Tensorflow|"
   ]
  },
  {
   "cell_type": "markdown",
   "id": "6b8e0388-9be4-4cfe-8ece-5068d30c4121",
   "metadata": {},
   "source": [
    "### Below are a few examples of evaluating arithmetic expressions in Python"
   ]
  },
  {
   "cell_type": "code",
   "execution_count": 2,
   "id": "653dff64-128e-4123-aa8a-29917c4b08ec",
   "metadata": {
    "tags": []
   },
   "outputs": [
    {
     "data": {
      "text/plain": [
       "17"
      ]
     },
     "execution_count": 2,
     "metadata": {},
     "output_type": "execute_result"
    }
   ],
   "source": [
    "#This a simple arithmetic expression to mutiply then add integers\n",
    "(3*4)+5"
   ]
  },
  {
   "cell_type": "code",
   "execution_count": 3,
   "id": "da054622-6389-4694-9155-d0078b49d5ee",
   "metadata": {
    "tags": []
   },
   "outputs": [
    {
     "data": {
      "text/plain": [
       "3.3333333333333335"
      ]
     },
     "execution_count": 3,
     "metadata": {},
     "output_type": "execute_result"
    }
   ],
   "source": [
    "#This will convert 200 minutes to hours by diving by 60\n",
    "minutes=200\n",
    "hours=60\n",
    "minutes/hours"
   ]
  },
  {
   "cell_type": "markdown",
   "id": "f6f195c6-fc0b-44e0-a3d8-223e92c852d5",
   "metadata": {},
   "source": [
    "__Objectives:__\n",
    "* List popular languages in data sciecne. \n",
    "* List popular libraries in data sciecne. \n",
    "* Use different types of heading \n",
    "* Create markdown cells\n",
    "* Evaluate expressions in Python "
   ]
  },
  {
   "cell_type": "markdown",
   "id": "056d4554-f023-4e47-9226-501fd9cc56e9",
   "metadata": {},
   "source": [
    "## Author\n",
    "Marius Sava "
   ]
  }
 ],
 "metadata": {
  "kernelspec": {
   "display_name": "Python 3 (ipykernel)",
   "language": "python",
   "name": "python3"
  },
  "language_info": {
   "codemirror_mode": {
    "name": "ipython",
    "version": 3
   },
   "file_extension": ".py",
   "mimetype": "text/x-python",
   "name": "python",
   "nbconvert_exporter": "python",
   "pygments_lexer": "ipython3",
   "version": "3.11.5"
  }
 },
 "nbformat": 4,
 "nbformat_minor": 5
}
